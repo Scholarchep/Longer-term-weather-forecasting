{
 "cells": [
  {
   "cell_type": "markdown",
   "id": "8978c164",
   "metadata": {},
   "source": [
    "# Longer-term weather forecasting"
   ]
  },
  {
   "cell_type": "markdown",
   "id": "86f6da87",
   "metadata": {},
   "source": [
    "## Background"
   ]
  },
  {
   "cell_type": "markdown",
   "id": "550d1859",
   "metadata": {},
   "source": [
    "Extreme weather events are sweeping the globe and range from heat waves, wildfires and drought to hurricanes, extreme rainfall and flooding. These weather events have multiple impacts on agriculture, energy, transportation, as well as low resource communities and disaster planning in countries across the globe.\n",
    "\n",
    "Accurate long-term forecasts of temperature and precipitation are crucial to help people prepare and adapt to these extreme weather events. Currently, purely physics-based models dominate short-term weather forecasting. But these models have a limited forecast horizon. The availability of meteorological data offers an opportunity for data scientists to improve sub-seasonal forecasts by blending physics-based forecasts with machine learning. Sub-seasonal forecasts for weather and climate conditions (lead-times ranging from 15 to more than 45 days) would help communities and industries adapt to the challenges brought on by climate change."
   ]
  },
  {
   "cell_type": "markdown",
   "id": "4bced711",
   "metadata": {},
   "source": [
    "## Project overview"
   ]
  },
  {
   "cell_type": "markdown",
   "id": "f883b16a",
   "metadata": {},
   "source": [
    "This project focuses on a prediction task involving forecasting sub-seasonal temperatures (temperatures over a two-week period) within the United States. The dataset used consists of weather and climate information for a number of US locations, for a number of start dates for the two-week observation, as well as the forecasted temperature and precipitation from a number of weather forecast models. Each row in the data corresponds to a single location and a single start date for the two-week period. The task is to predict the arithmetic mean of the maximum and minimum temperature over the next 14 days, for each location and start date."
   ]
  },
  {
   "cell_type": "markdown",
   "id": "0e27a2e1",
   "metadata": {},
   "source": [
    "## Data Understanding"
   ]
  },
  {
   "cell_type": "code",
   "execution_count": 1,
   "id": "868250fb",
   "metadata": {},
   "outputs": [],
   "source": [
    "# Import required libraries\n",
    "import pandas as pd\n",
    "import numpy as np\n",
    "import seaborn as sns\n",
    "import matplotlib.pyplot as plt\n",
    "from sklearn.impute import SimpleImputer\n",
    "from sklearn.preprocessing import StandardScaler\n",
    "from sklearn.linear_model import LinearRegression, LassoCV, Lasso\n",
    "from sklearn.ensemble import RandomForestRegressor\n",
    "from sklearn.metrics import mean_squared_error\n",
    "from sklearn.model_selection import cross_validate, GridSearchCV\n",
    "from sklearn.preprocessing import OneHotEncoder\n",
    "from sklearn.preprocessing import FunctionTransformer\n",
    "from sklearn.pipeline import Pipeline\n",
    "from sklearn.compose import ColumnTransformer\n",
    "\n",
    "%matplotlib inline"
   ]
  },
  {
   "cell_type": "markdown",
   "id": "3fa8647b",
   "metadata": {},
   "source": [
    "There are two datasets provided:\n",
    "- train_data.csv: the training dataset, where contest-tmp2m-14d__tmp2m, the arithmetic mean of the max and min observed temperature over the next 14 days for each location and start date, is provided\n",
    "- test_data.csv: the test dataset, where the true value of contest-tmp2m-14d__tmp2m for each row is not provided."
   ]
  },
  {
   "cell_type": "code",
   "execution_count": 3,
   "id": "67dcb50f",
   "metadata": {},
   "outputs": [
    {
     "data": {
      "text/html": [
       "<div>\n",
       "<style scoped>\n",
       "    .dataframe tbody tr th:only-of-type {\n",
       "        vertical-align: middle;\n",
       "    }\n",
       "\n",
       "    .dataframe tbody tr th {\n",
       "        vertical-align: top;\n",
       "    }\n",
       "\n",
       "    .dataframe thead th {\n",
       "        text-align: right;\n",
       "    }\n",
       "</style>\n",
       "<table border=\"1\" class=\"dataframe\">\n",
       "  <thead>\n",
       "    <tr style=\"text-align: right;\">\n",
       "      <th></th>\n",
       "      <th>index</th>\n",
       "      <th>lat</th>\n",
       "      <th>lon</th>\n",
       "      <th>startdate</th>\n",
       "      <th>contest-pevpr-sfc-gauss-14d__pevpr</th>\n",
       "      <th>nmme0-tmp2m-34w__cancm30</th>\n",
       "      <th>nmme0-tmp2m-34w__cancm40</th>\n",
       "      <th>nmme0-tmp2m-34w__ccsm30</th>\n",
       "      <th>nmme0-tmp2m-34w__ccsm40</th>\n",
       "      <th>nmme0-tmp2m-34w__cfsv20</th>\n",
       "      <th>...</th>\n",
       "      <th>wind-vwnd-925-2010-11</th>\n",
       "      <th>wind-vwnd-925-2010-12</th>\n",
       "      <th>wind-vwnd-925-2010-13</th>\n",
       "      <th>wind-vwnd-925-2010-14</th>\n",
       "      <th>wind-vwnd-925-2010-15</th>\n",
       "      <th>wind-vwnd-925-2010-16</th>\n",
       "      <th>wind-vwnd-925-2010-17</th>\n",
       "      <th>wind-vwnd-925-2010-18</th>\n",
       "      <th>wind-vwnd-925-2010-19</th>\n",
       "      <th>wind-vwnd-925-2010-20</th>\n",
       "    </tr>\n",
       "  </thead>\n",
       "  <tbody>\n",
       "    <tr>\n",
       "      <th>0</th>\n",
       "      <td>0</td>\n",
       "      <td>0.0</td>\n",
       "      <td>0.833333</td>\n",
       "      <td>9/1/14</td>\n",
       "      <td>237.00</td>\n",
       "      <td>29.02</td>\n",
       "      <td>31.64</td>\n",
       "      <td>29.57</td>\n",
       "      <td>30.73</td>\n",
       "      <td>29.71</td>\n",
       "      <td>...</td>\n",
       "      <td>-27.68</td>\n",
       "      <td>-37.21</td>\n",
       "      <td>8.32</td>\n",
       "      <td>9.56</td>\n",
       "      <td>-2.03</td>\n",
       "      <td>48.13</td>\n",
       "      <td>28.09</td>\n",
       "      <td>-13.50</td>\n",
       "      <td>11.90</td>\n",
       "      <td>4.58</td>\n",
       "    </tr>\n",
       "    <tr>\n",
       "      <th>1</th>\n",
       "      <td>1</td>\n",
       "      <td>0.0</td>\n",
       "      <td>0.833333</td>\n",
       "      <td>9/2/14</td>\n",
       "      <td>228.90</td>\n",
       "      <td>29.02</td>\n",
       "      <td>31.64</td>\n",
       "      <td>29.57</td>\n",
       "      <td>30.73</td>\n",
       "      <td>29.71</td>\n",
       "      <td>...</td>\n",
       "      <td>-21.13</td>\n",
       "      <td>-36.57</td>\n",
       "      <td>8.77</td>\n",
       "      <td>21.17</td>\n",
       "      <td>4.44</td>\n",
       "      <td>48.60</td>\n",
       "      <td>27.41</td>\n",
       "      <td>-23.77</td>\n",
       "      <td>15.44</td>\n",
       "      <td>3.42</td>\n",
       "    </tr>\n",
       "    <tr>\n",
       "      <th>2</th>\n",
       "      <td>2</td>\n",
       "      <td>0.0</td>\n",
       "      <td>0.833333</td>\n",
       "      <td>9/3/14</td>\n",
       "      <td>220.69</td>\n",
       "      <td>29.02</td>\n",
       "      <td>31.64</td>\n",
       "      <td>29.57</td>\n",
       "      <td>30.73</td>\n",
       "      <td>29.71</td>\n",
       "      <td>...</td>\n",
       "      <td>-10.72</td>\n",
       "      <td>-34.16</td>\n",
       "      <td>6.99</td>\n",
       "      <td>32.16</td>\n",
       "      <td>5.01</td>\n",
       "      <td>48.53</td>\n",
       "      <td>19.21</td>\n",
       "      <td>-33.16</td>\n",
       "      <td>15.11</td>\n",
       "      <td>4.82</td>\n",
       "    </tr>\n",
       "    <tr>\n",
       "      <th>3</th>\n",
       "      <td>3</td>\n",
       "      <td>0.0</td>\n",
       "      <td>0.833333</td>\n",
       "      <td>9/4/14</td>\n",
       "      <td>225.28</td>\n",
       "      <td>29.02</td>\n",
       "      <td>31.64</td>\n",
       "      <td>29.57</td>\n",
       "      <td>30.73</td>\n",
       "      <td>29.71</td>\n",
       "      <td>...</td>\n",
       "      <td>0.33</td>\n",
       "      <td>-31.04</td>\n",
       "      <td>6.17</td>\n",
       "      <td>39.66</td>\n",
       "      <td>-1.41</td>\n",
       "      <td>50.59</td>\n",
       "      <td>8.29</td>\n",
       "      <td>-37.22</td>\n",
       "      <td>18.24</td>\n",
       "      <td>9.74</td>\n",
       "    </tr>\n",
       "    <tr>\n",
       "      <th>4</th>\n",
       "      <td>4</td>\n",
       "      <td>0.0</td>\n",
       "      <td>0.833333</td>\n",
       "      <td>9/5/14</td>\n",
       "      <td>237.24</td>\n",
       "      <td>29.02</td>\n",
       "      <td>31.64</td>\n",
       "      <td>29.57</td>\n",
       "      <td>30.73</td>\n",
       "      <td>29.71</td>\n",
       "      <td>...</td>\n",
       "      <td>9.83</td>\n",
       "      <td>-31.80</td>\n",
       "      <td>7.47</td>\n",
       "      <td>38.62</td>\n",
       "      <td>-5.21</td>\n",
       "      <td>54.73</td>\n",
       "      <td>-2.58</td>\n",
       "      <td>-42.30</td>\n",
       "      <td>21.91</td>\n",
       "      <td>10.95</td>\n",
       "    </tr>\n",
       "  </tbody>\n",
       "</table>\n",
       "<p>5 rows × 246 columns</p>\n",
       "</div>"
      ],
      "text/plain": [
       "   index  lat       lon startdate  contest-pevpr-sfc-gauss-14d__pevpr  \\\n",
       "0      0  0.0  0.833333    9/1/14                              237.00   \n",
       "1      1  0.0  0.833333    9/2/14                              228.90   \n",
       "2      2  0.0  0.833333    9/3/14                              220.69   \n",
       "3      3  0.0  0.833333    9/4/14                              225.28   \n",
       "4      4  0.0  0.833333    9/5/14                              237.24   \n",
       "\n",
       "   nmme0-tmp2m-34w__cancm30  nmme0-tmp2m-34w__cancm40  \\\n",
       "0                     29.02                     31.64   \n",
       "1                     29.02                     31.64   \n",
       "2                     29.02                     31.64   \n",
       "3                     29.02                     31.64   \n",
       "4                     29.02                     31.64   \n",
       "\n",
       "   nmme0-tmp2m-34w__ccsm30  nmme0-tmp2m-34w__ccsm40  nmme0-tmp2m-34w__cfsv20  \\\n",
       "0                    29.57                    30.73                    29.71   \n",
       "1                    29.57                    30.73                    29.71   \n",
       "2                    29.57                    30.73                    29.71   \n",
       "3                    29.57                    30.73                    29.71   \n",
       "4                    29.57                    30.73                    29.71   \n",
       "\n",
       "   ...  wind-vwnd-925-2010-11  wind-vwnd-925-2010-12  wind-vwnd-925-2010-13  \\\n",
       "0  ...                 -27.68                 -37.21                   8.32   \n",
       "1  ...                 -21.13                 -36.57                   8.77   \n",
       "2  ...                 -10.72                 -34.16                   6.99   \n",
       "3  ...                   0.33                 -31.04                   6.17   \n",
       "4  ...                   9.83                 -31.80                   7.47   \n",
       "\n",
       "   wind-vwnd-925-2010-14  wind-vwnd-925-2010-15  wind-vwnd-925-2010-16  \\\n",
       "0                   9.56                  -2.03                  48.13   \n",
       "1                  21.17                   4.44                  48.60   \n",
       "2                  32.16                   5.01                  48.53   \n",
       "3                  39.66                  -1.41                  50.59   \n",
       "4                  38.62                  -5.21                  54.73   \n",
       "\n",
       "   wind-vwnd-925-2010-17  wind-vwnd-925-2010-18  wind-vwnd-925-2010-19  \\\n",
       "0                  28.09                 -13.50                  11.90   \n",
       "1                  27.41                 -23.77                  15.44   \n",
       "2                  19.21                 -33.16                  15.11   \n",
       "3                   8.29                 -37.22                  18.24   \n",
       "4                  -2.58                 -42.30                  21.91   \n",
       "\n",
       "   wind-vwnd-925-2010-20  \n",
       "0                   4.58  \n",
       "1                   3.42  \n",
       "2                   4.82  \n",
       "3                   9.74  \n",
       "4                  10.95  \n",
       "\n",
       "[5 rows x 246 columns]"
      ]
     },
     "execution_count": 3,
     "metadata": {},
     "output_type": "execute_result"
    }
   ],
   "source": [
    "#load the train dataset\n",
    "train_df = pd.read_csv('Data/train_data.csv')\n",
    "train_df.head()"
   ]
  },
  {
   "cell_type": "code",
   "execution_count": 4,
   "id": "05f6788e",
   "metadata": {},
   "outputs": [
    {
     "data": {
      "text/html": [
       "<div>\n",
       "<style scoped>\n",
       "    .dataframe tbody tr th:only-of-type {\n",
       "        vertical-align: middle;\n",
       "    }\n",
       "\n",
       "    .dataframe tbody tr th {\n",
       "        vertical-align: top;\n",
       "    }\n",
       "\n",
       "    .dataframe thead th {\n",
       "        text-align: right;\n",
       "    }\n",
       "</style>\n",
       "<table border=\"1\" class=\"dataframe\">\n",
       "  <thead>\n",
       "    <tr style=\"text-align: right;\">\n",
       "      <th></th>\n",
       "      <th>index</th>\n",
       "      <th>lat</th>\n",
       "      <th>lon</th>\n",
       "      <th>startdate</th>\n",
       "      <th>contest-pevpr-sfc-gauss-14d__pevpr</th>\n",
       "      <th>nmme0-tmp2m-34w__cancm30</th>\n",
       "      <th>nmme0-tmp2m-34w__cancm40</th>\n",
       "      <th>nmme0-tmp2m-34w__ccsm30</th>\n",
       "      <th>nmme0-tmp2m-34w__ccsm40</th>\n",
       "      <th>nmme0-tmp2m-34w__cfsv20</th>\n",
       "      <th>...</th>\n",
       "      <th>wind-vwnd-925-2010-11</th>\n",
       "      <th>wind-vwnd-925-2010-12</th>\n",
       "      <th>wind-vwnd-925-2010-13</th>\n",
       "      <th>wind-vwnd-925-2010-14</th>\n",
       "      <th>wind-vwnd-925-2010-15</th>\n",
       "      <th>wind-vwnd-925-2010-16</th>\n",
       "      <th>wind-vwnd-925-2010-17</th>\n",
       "      <th>wind-vwnd-925-2010-18</th>\n",
       "      <th>wind-vwnd-925-2010-19</th>\n",
       "      <th>wind-vwnd-925-2010-20</th>\n",
       "    </tr>\n",
       "  </thead>\n",
       "  <tbody>\n",
       "    <tr>\n",
       "      <th>0</th>\n",
       "      <td>375734</td>\n",
       "      <td>0.0</td>\n",
       "      <td>0.833333</td>\n",
       "      <td>11/1/22</td>\n",
       "      <td>339.88</td>\n",
       "      <td>30.88</td>\n",
       "      <td>30.92</td>\n",
       "      <td>29.17</td>\n",
       "      <td>31.02</td>\n",
       "      <td>29.47</td>\n",
       "      <td>...</td>\n",
       "      <td>-19.28</td>\n",
       "      <td>-39.77</td>\n",
       "      <td>-29.25</td>\n",
       "      <td>40.88</td>\n",
       "      <td>-8.31</td>\n",
       "      <td>14.91</td>\n",
       "      <td>-24.62</td>\n",
       "      <td>31.05</td>\n",
       "      <td>-23.69</td>\n",
       "      <td>6.27</td>\n",
       "    </tr>\n",
       "    <tr>\n",
       "      <th>1</th>\n",
       "      <td>375735</td>\n",
       "      <td>0.0</td>\n",
       "      <td>0.833333</td>\n",
       "      <td>11/2/22</td>\n",
       "      <td>334.63</td>\n",
       "      <td>30.88</td>\n",
       "      <td>30.92</td>\n",
       "      <td>29.17</td>\n",
       "      <td>31.02</td>\n",
       "      <td>29.47</td>\n",
       "      <td>...</td>\n",
       "      <td>-19.58</td>\n",
       "      <td>-43.14</td>\n",
       "      <td>-28.62</td>\n",
       "      <td>45.37</td>\n",
       "      <td>-5.42</td>\n",
       "      <td>16.97</td>\n",
       "      <td>-23.94</td>\n",
       "      <td>28.84</td>\n",
       "      <td>-20.61</td>\n",
       "      <td>14.16</td>\n",
       "    </tr>\n",
       "  </tbody>\n",
       "</table>\n",
       "<p>2 rows × 245 columns</p>\n",
       "</div>"
      ],
      "text/plain": [
       "    index  lat       lon startdate  contest-pevpr-sfc-gauss-14d__pevpr  \\\n",
       "0  375734  0.0  0.833333   11/1/22                              339.88   \n",
       "1  375735  0.0  0.833333   11/2/22                              334.63   \n",
       "\n",
       "   nmme0-tmp2m-34w__cancm30  nmme0-tmp2m-34w__cancm40  \\\n",
       "0                     30.88                     30.92   \n",
       "1                     30.88                     30.92   \n",
       "\n",
       "   nmme0-tmp2m-34w__ccsm30  nmme0-tmp2m-34w__ccsm40  nmme0-tmp2m-34w__cfsv20  \\\n",
       "0                    29.17                    31.02                    29.47   \n",
       "1                    29.17                    31.02                    29.47   \n",
       "\n",
       "   ...  wind-vwnd-925-2010-11  wind-vwnd-925-2010-12  wind-vwnd-925-2010-13  \\\n",
       "0  ...                 -19.28                 -39.77                 -29.25   \n",
       "1  ...                 -19.58                 -43.14                 -28.62   \n",
       "\n",
       "   wind-vwnd-925-2010-14  wind-vwnd-925-2010-15  wind-vwnd-925-2010-16  \\\n",
       "0                  40.88                  -8.31                  14.91   \n",
       "1                  45.37                  -5.42                  16.97   \n",
       "\n",
       "   wind-vwnd-925-2010-17  wind-vwnd-925-2010-18  wind-vwnd-925-2010-19  \\\n",
       "0                 -24.62                  31.05                 -23.69   \n",
       "1                 -23.94                  28.84                 -20.61   \n",
       "\n",
       "   wind-vwnd-925-2010-20  \n",
       "0                   6.27  \n",
       "1                  14.16  \n",
       "\n",
       "[2 rows x 245 columns]"
      ]
     },
     "execution_count": 4,
     "metadata": {},
     "output_type": "execute_result"
    }
   ],
   "source": [
    "#load the test dataset\n",
    "test_df = pd.read_csv('Data/test_data.csv')\n",
    "test_df.head(2)"
   ]
  },
  {
   "cell_type": "code",
   "execution_count": 5,
   "id": "662c2771",
   "metadata": {},
   "outputs": [
    {
     "name": "stdout",
     "output_type": "stream",
     "text": [
      "Shape of train data: (375734, 246)\n",
      "Shape of test data: (31354, 245)\n"
     ]
    }
   ],
   "source": [
    "# number of rows and columns\n",
    "print(f'Shape of train data: {train_df.shape}')\n",
    "print(f'Shape of test data: {test_df.shape}')"
   ]
  },
  {
   "cell_type": "code",
   "execution_count": 6,
   "id": "56ac48de",
   "metadata": {},
   "outputs": [
    {
     "name": "stdout",
     "output_type": "stream",
     "text": [
      "<class 'pandas.core.frame.DataFrame'>\n",
      "RangeIndex: 31354 entries, 0 to 31353\n",
      "Columns: 245 entries, index to wind-vwnd-925-2010-20\n",
      "dtypes: float64(241), int64(2), object(2)\n",
      "memory usage: 58.6+ MB\n"
     ]
    }
   ],
   "source": [
    "# summary of test dataset\n",
    "test_df.info()"
   ]
  },
  {
   "cell_type": "code",
   "execution_count": 7,
   "id": "b6ce7260",
   "metadata": {},
   "outputs": [
    {
     "name": "stdout",
     "output_type": "stream",
     "text": [
      "<class 'pandas.core.frame.DataFrame'>\n",
      "RangeIndex: 375734 entries, 0 to 375733\n",
      "Columns: 246 entries, index to wind-vwnd-925-2010-20\n",
      "dtypes: float64(240), int64(4), object(2)\n",
      "memory usage: 705.2+ MB\n"
     ]
    }
   ],
   "source": [
    "# summary of train dataset\n",
    "train_df.info()"
   ]
  },
  {
   "cell_type": "code",
   "execution_count": 8,
   "id": "977305ff",
   "metadata": {},
   "outputs": [
    {
     "data": {
      "text/plain": [
       "Index(['index', 'lat', 'lon', 'startdate',\n",
       "       'contest-pevpr-sfc-gauss-14d__pevpr', 'nmme0-tmp2m-34w__cancm30',\n",
       "       'nmme0-tmp2m-34w__cancm40', 'nmme0-tmp2m-34w__ccsm30',\n",
       "       'nmme0-tmp2m-34w__ccsm40', 'nmme0-tmp2m-34w__cfsv20',\n",
       "       ...\n",
       "       'wind-vwnd-925-2010-11', 'wind-vwnd-925-2010-12',\n",
       "       'wind-vwnd-925-2010-13', 'wind-vwnd-925-2010-14',\n",
       "       'wind-vwnd-925-2010-15', 'wind-vwnd-925-2010-16',\n",
       "       'wind-vwnd-925-2010-17', 'wind-vwnd-925-2010-18',\n",
       "       'wind-vwnd-925-2010-19', 'wind-vwnd-925-2010-20'],\n",
       "      dtype='object', length=246)"
      ]
     },
     "execution_count": 8,
     "metadata": {},
     "output_type": "execute_result"
    }
   ],
   "source": [
    "#column names of train_df\n",
    "train_df.columns"
   ]
  },
  {
   "cell_type": "code",
   "execution_count": 9,
   "id": "1e65669e",
   "metadata": {},
   "outputs": [
    {
     "data": {
      "text/html": [
       "<div>\n",
       "<style scoped>\n",
       "    .dataframe tbody tr th:only-of-type {\n",
       "        vertical-align: middle;\n",
       "    }\n",
       "\n",
       "    .dataframe tbody tr th {\n",
       "        vertical-align: top;\n",
       "    }\n",
       "\n",
       "    .dataframe thead th {\n",
       "        text-align: right;\n",
       "    }\n",
       "</style>\n",
       "<table border=\"1\" class=\"dataframe\">\n",
       "  <thead>\n",
       "    <tr style=\"text-align: right;\">\n",
       "      <th></th>\n",
       "      <th>startdate</th>\n",
       "      <th>climateregions__climateregion</th>\n",
       "    </tr>\n",
       "  </thead>\n",
       "  <tbody>\n",
       "    <tr>\n",
       "      <th>0</th>\n",
       "      <td>9/1/14</td>\n",
       "      <td>BSh</td>\n",
       "    </tr>\n",
       "    <tr>\n",
       "      <th>1</th>\n",
       "      <td>9/2/14</td>\n",
       "      <td>BSh</td>\n",
       "    </tr>\n",
       "  </tbody>\n",
       "</table>\n",
       "</div>"
      ],
      "text/plain": [
       "  startdate climateregions__climateregion\n",
       "0    9/1/14                           BSh\n",
       "1    9/2/14                           BSh"
      ]
     },
     "execution_count": 9,
     "metadata": {},
     "output_type": "execute_result"
    }
   ],
   "source": [
    "# columns of dtype object\n",
    "train_df.select_dtypes(include='object').head(2)"
   ]
  },
  {
   "cell_type": "code",
   "execution_count": 10,
   "id": "96128eb3",
   "metadata": {},
   "outputs": [
    {
     "name": "stdout",
     "output_type": "stream",
     "text": [
      "0         1\n",
      "250496    1\n",
      "250494    1\n",
      "250493    1\n",
      "250492    1\n",
      "         ..\n",
      "125243    1\n",
      "125242    1\n",
      "125241    1\n",
      "125240    1\n",
      "375733    1\n",
      "Name: index, Length: 375734, dtype: int64\n",
      "***************************\n",
      "4    59110\n",
      "3    50372\n",
      "7    49344\n",
      "1    47802\n",
      "6    46260\n",
      "2    43690\n",
      "8    41120\n",
      "5    38036\n",
      "Name: mjo1d__phase, dtype: int64\n",
      "***************************\n",
      "67    94062\n",
      "66    78128\n",
      "48    30326\n",
      "37    22102\n",
      "44    15934\n",
      "47    15934\n",
      "53    15934\n",
      "63    15934\n",
      "64    15934\n",
      "49    15420\n",
      "51    15420\n",
      "61    15420\n",
      "60    15420\n",
      "56     9766\n",
      "Name: mei__meirank, dtype: int64\n",
      "***************************\n",
      "4    291438\n",
      "3     84296\n",
      "Name: mei__nip, dtype: int64\n",
      "***************************\n"
     ]
    }
   ],
   "source": [
    "# unique values of columns with dtype int64\n",
    "for col in train_df.select_dtypes(include='int64').columns:\n",
    "    print(train_df[col].value_counts())\n",
    "    print('***************************')"
   ]
  },
  {
   "cell_type": "markdown",
   "id": "c9f8c6d5",
   "metadata": {},
   "source": [
    "The target variable is the the arithmetic mean of the max and min observed temperature over the next 14 days for each location, and start date: 'contest-tmp2m-14d__tmp2m'."
   ]
  },
  {
   "cell_type": "code",
   "execution_count": 11,
   "id": "6ad5e7be",
   "metadata": {
    "scrolled": true
   },
   "outputs": [
    {
     "data": {
      "image/png": "[encoded data removed]",
      "text/plain": [
       "<Figure size 864x432 with 1 Axes>"
      ]
     },
     "metadata": {
      "needs_background": "light"
     },
     "output_type": "display_data"
    }
   ],
   "source": [
    "# Distribution of target variable - 'contest-tmp2m-14d__tmp2m'\n",
    "fig, ax = plt.subplots(figsize=(12,6))\n",
    "sns.histplot(train_df['contest-tmp2m-14d__tmp2m'], kde=True, kde_kws=dict(cut=3),\n",
    "             alpha=.4, edgecolor=(1, 1, 1, .4), ax=ax)\n",
    "ax.set_title('Distribution of arithmetic mean of the max and min temperature')\n",
    "ax.set_xlabel('Arithmetic mean of the max and min temperature');"
   ]
  },
  {
   "cell_type": "markdown",
   "id": "43be5996",
   "metadata": {},
   "source": [
    "The arithmetic mean temperature is between -20 and 40. The temperature is more normally distributed. It is slightly skewed to the left."
   ]
  },
  {
   "cell_type": "markdown",
   "id": "e64a42e9",
   "metadata": {},
   "source": [
    "## Data Preparation"
   ]
  },
  {
   "cell_type": "markdown",
   "id": "38fe616b",
   "metadata": {},
   "source": [
    "### Duplicates"
   ]
  },
  {
   "cell_type": "code",
   "execution_count": 12,
   "id": "096ed0ca",
   "metadata": {},
   "outputs": [
    {
     "data": {
      "text/plain": [
       "False    375734\n",
       "dtype: int64"
      ]
     },
     "execution_count": 12,
     "metadata": {},
     "output_type": "execute_result"
    }
   ],
   "source": [
    "# check for duplicates\n",
    "train_df.duplicated().value_counts()"
   ]
  },
  {
   "cell_type": "markdown",
   "id": "07432d08",
   "metadata": {},
   "source": [
    "No duplicates in the dataset."
   ]
  },
  {
   "cell_type": "markdown",
   "id": "ccdf4003",
   "metadata": {},
   "source": [
    "### Missing values"
   ]
  },
  {
   "cell_type": "code",
   "execution_count": 13,
   "id": "6b7167f3",
   "metadata": {},
   "outputs": [
    {
     "name": "stdout",
     "output_type": "stream",
     "text": [
      "nmme0-tmp2m-34w__ccsm30 : 15934\n",
      "nmme-tmp2m-56w__ccsm3 : 10280\n",
      "nmme-prate-34w__ccsm3 : 8738\n",
      "nmme0-prate-56w__ccsm30 : 15934\n",
      "nmme0-prate-34w__ccsm30 : 15934\n",
      "nmme-prate-56w__ccsm3 : 10280\n",
      "nmme-tmp2m-34w__ccsm3 : 8738\n",
      "ccsm30 : 15934\n"
     ]
    }
   ],
   "source": [
    "# columns with missing values\n",
    "#or use train_df[train_df.columns[train_df.isnull().any()]].isnull().sum()\n",
    "indexes = train_df.isna().sum().index\n",
    "values = train_df.isna().sum().values\n",
    "for index, value in zip(indexes, values):\n",
    "    if value:\n",
    "        print(f'{index} : {value}')"
   ]
  },
  {
   "cell_type": "markdown",
   "id": "2e3c0276",
   "metadata": {},
   "source": [
    "The missing values can be replaced with the mean. The records with missing values can't be dropped because it constitutes around half of the whole dataset."
   ]
  },
  {
   "cell_type": "code",
   "execution_count": 14,
   "id": "f1b7a839",
   "metadata": {},
   "outputs": [],
   "source": [
    "cols = ['nmme0-tmp2m-34w__ccsm30', 'nmme-tmp2m-56w__ccsm3', 'nmme-prate-34w__ccsm3', 'nmme0-prate-56w__ccsm30', 'nmme0-prate-34w__ccsm30', 'nmme-prate-56w__ccsm3', 'nmme-tmp2m-34w__ccsm3', 'ccsm30']\n",
    "imp_mean = SimpleImputer(missing_values=np.nan, strategy='mean')\n",
    "imp_mean = imp_mean.fit(train_df[cols])\n",
    "train_df[cols] = imp_mean.transform(train_df[cols])"
   ]
  },
  {
   "cell_type": "code",
   "execution_count": 15,
   "id": "1fe42974",
   "metadata": {},
   "outputs": [
    {
     "data": {
      "text/plain": [
       "Series([], dtype: float64)"
      ]
     },
     "execution_count": 15,
     "metadata": {},
     "output_type": "execute_result"
    }
   ],
   "source": [
    "#re-check for missing values\n",
    "train_df[train_df.columns[train_df.isnull().any()]].isnull().sum()"
   ]
  },
  {
   "cell_type": "code",
   "execution_count": 16,
   "id": "130c63bf",
   "metadata": {},
   "outputs": [
    {
     "data": {
      "text/plain": [
       "Series([], dtype: float64)"
      ]
     },
     "execution_count": 16,
     "metadata": {},
     "output_type": "execute_result"
    }
   ],
   "source": [
    "# missing values for test dataset\n",
    "test_df[test_df.columns[test_df.isnull().any()]].isnull().sum()"
   ]
  },
  {
   "cell_type": "markdown",
   "id": "f2b0af0d",
   "metadata": {},
   "source": [
    "### Separate predictor and target variables"
   ]
  },
  {
   "cell_type": "code",
   "execution_count": 17,
   "id": "69e89fec",
   "metadata": {},
   "outputs": [],
   "source": [
    "#drop irrelevant column\n",
    "train_df.drop(columns=['index'], inplace=True)\n",
    "X_test = test_df.drop(columns=['index'])"
   ]
  },
  {
   "cell_type": "code",
   "execution_count": 18,
   "id": "46b4d231",
   "metadata": {},
   "outputs": [],
   "source": [
    "#Obtain the target and features from the training set\n",
    "y_train = train_df['contest-tmp2m-14d__tmp2m']\n",
    "X_train = train_df.drop(columns='contest-tmp2m-14d__tmp2m')"
   ]
  },
  {
   "cell_type": "markdown",
   "id": "b0a58e6b",
   "metadata": {},
   "source": [
    "### Feature engineering"
   ]
  },
  {
   "attachments": {},
   "cell_type": "markdown",
   "id": "f6c8b4ce",
   "metadata": {},
   "source": [
    "Convert startdate from dtype object to datetime, and add new features day of the year, month, and season"
   ]
  },
  {
   "cell_type": "code",
   "execution_count": 19,
   "id": "58cacc8f",
   "metadata": {},
   "outputs": [],
   "source": [
    "# function for adding day_of_year and month\n",
    "def build_date_features(df, ref_set, date_key='startdate'):\n",
    "  df[date_key] = pd.to_datetime(ref_set[date_key])\n",
    "  df['day_of_year'] = df[date_key].dt.day_of_year\n",
    "  df['month'] = df[date_key].dt.month \n",
    "\n",
    "build_date_features(X_train, train_df)\n",
    "build_date_features(X_test, test_df)"
   ]
  },
  {
   "cell_type": "code",
   "execution_count": 21,
   "id": "ab0393a8",
   "metadata": {},
   "outputs": [
    {
     "data": {
      "text/html": [
       "<div>\n",
       "<style scoped>\n",
       "    .dataframe tbody tr th:only-of-type {\n",
       "        vertical-align: middle;\n",
       "    }\n",
       "\n",
       "    .dataframe tbody tr th {\n",
       "        vertical-align: top;\n",
       "    }\n",
       "\n",
       "    .dataframe thead th {\n",
       "        text-align: right;\n",
       "    }\n",
       "</style>\n",
       "<table border=\"1\" class=\"dataframe\">\n",
       "  <thead>\n",
       "    <tr style=\"text-align: right;\">\n",
       "      <th></th>\n",
       "      <th>lat</th>\n",
       "      <th>lon</th>\n",
       "      <th>contest-pevpr-sfc-gauss-14d__pevpr</th>\n",
       "      <th>nmme0-tmp2m-34w__cancm30</th>\n",
       "      <th>nmme0-tmp2m-34w__cancm40</th>\n",
       "      <th>nmme0-tmp2m-34w__ccsm30</th>\n",
       "      <th>nmme0-tmp2m-34w__ccsm40</th>\n",
       "      <th>nmme0-tmp2m-34w__cfsv20</th>\n",
       "      <th>nmme0-tmp2m-34w__gfdlflora0</th>\n",
       "      <th>nmme0-tmp2m-34w__gfdlflorb0</th>\n",
       "      <th>...</th>\n",
       "      <th>wind-vwnd-925-2010-13</th>\n",
       "      <th>wind-vwnd-925-2010-14</th>\n",
       "      <th>wind-vwnd-925-2010-15</th>\n",
       "      <th>wind-vwnd-925-2010-16</th>\n",
       "      <th>wind-vwnd-925-2010-17</th>\n",
       "      <th>wind-vwnd-925-2010-18</th>\n",
       "      <th>wind-vwnd-925-2010-19</th>\n",
       "      <th>wind-vwnd-925-2010-20</th>\n",
       "      <th>day_of_year</th>\n",
       "      <th>month</th>\n",
       "    </tr>\n",
       "  </thead>\n",
       "  <tbody>\n",
       "    <tr>\n",
       "      <th>0</th>\n",
       "      <td>0.0</td>\n",
       "      <td>0.833333</td>\n",
       "      <td>237.0</td>\n",
       "      <td>29.02</td>\n",
       "      <td>31.64</td>\n",
       "      <td>29.57</td>\n",
       "      <td>30.73</td>\n",
       "      <td>29.71</td>\n",
       "      <td>31.52</td>\n",
       "      <td>31.68</td>\n",
       "      <td>...</td>\n",
       "      <td>8.32</td>\n",
       "      <td>9.56</td>\n",
       "      <td>-2.03</td>\n",
       "      <td>48.13</td>\n",
       "      <td>28.09</td>\n",
       "      <td>-13.50</td>\n",
       "      <td>11.90</td>\n",
       "      <td>4.58</td>\n",
       "      <td>244</td>\n",
       "      <td>9</td>\n",
       "    </tr>\n",
       "    <tr>\n",
       "      <th>1</th>\n",
       "      <td>0.0</td>\n",
       "      <td>0.833333</td>\n",
       "      <td>228.9</td>\n",
       "      <td>29.02</td>\n",
       "      <td>31.64</td>\n",
       "      <td>29.57</td>\n",
       "      <td>30.73</td>\n",
       "      <td>29.71</td>\n",
       "      <td>31.52</td>\n",
       "      <td>31.68</td>\n",
       "      <td>...</td>\n",
       "      <td>8.77</td>\n",
       "      <td>21.17</td>\n",
       "      <td>4.44</td>\n",
       "      <td>48.60</td>\n",
       "      <td>27.41</td>\n",
       "      <td>-23.77</td>\n",
       "      <td>15.44</td>\n",
       "      <td>3.42</td>\n",
       "      <td>245</td>\n",
       "      <td>9</td>\n",
       "    </tr>\n",
       "  </tbody>\n",
       "</table>\n",
       "<p>2 rows × 245 columns</p>\n",
       "</div>"
      ],
      "text/plain": [
       "   lat       lon  contest-pevpr-sfc-gauss-14d__pevpr  \\\n",
       "0  0.0  0.833333                               237.0   \n",
       "1  0.0  0.833333                               228.9   \n",
       "\n",
       "   nmme0-tmp2m-34w__cancm30  nmme0-tmp2m-34w__cancm40  \\\n",
       "0                     29.02                     31.64   \n",
       "1                     29.02                     31.64   \n",
       "\n",
       "   nmme0-tmp2m-34w__ccsm30  nmme0-tmp2m-34w__ccsm40  nmme0-tmp2m-34w__cfsv20  \\\n",
       "0                    29.57                    30.73                    29.71   \n",
       "1                    29.57                    30.73                    29.71   \n",
       "\n",
       "   nmme0-tmp2m-34w__gfdlflora0  nmme0-tmp2m-34w__gfdlflorb0  ...  \\\n",
       "0                        31.52                        31.68  ...   \n",
       "1                        31.52                        31.68  ...   \n",
       "\n",
       "   wind-vwnd-925-2010-13  wind-vwnd-925-2010-14  wind-vwnd-925-2010-15  \\\n",
       "0                   8.32                   9.56                  -2.03   \n",
       "1                   8.77                  21.17                   4.44   \n",
       "\n",
       "   wind-vwnd-925-2010-16  wind-vwnd-925-2010-17  wind-vwnd-925-2010-18  \\\n",
       "0                  48.13                  28.09                 -13.50   \n",
       "1                  48.60                  27.41                 -23.77   \n",
       "\n",
       "   wind-vwnd-925-2010-19  wind-vwnd-925-2010-20  day_of_year  month  \n",
       "0                  11.90                   4.58          244      9  \n",
       "1                  15.44                   3.42          245      9  \n",
       "\n",
       "[2 rows x 245 columns]"
      ]
     },
     "execution_count": 21,
     "metadata": {},
     "output_type": "execute_result"
    }
   ],
   "source": [
    "# drop startdate column\n",
    "X_train = X_train.drop('startdate', axis=1) \n",
    "X_test = X_test.drop('startdate', axis=1)\n",
    "X_train.head(2)"
   ]
  },
  {
   "cell_type": "code",
   "execution_count": 22,
   "id": "b066fb9c",
   "metadata": {},
   "outputs": [],
   "source": [
    "def add_season(df):\n",
    "    \"\"\"Winter months(0): December, January, February.\n",
    "    Spring months(1): March, April, May.\n",
    "    Summer months(2): June, July, August.\n",
    "    Fall months(3): September, October, November.\"\"\"\n",
    "\n",
    "    month_to_season = {\n",
    "      1: 0,\n",
    "      2: 0,\n",
    "      3: 1,\n",
    "      4: 1,\n",
    "      5: 1,\n",
    "      6: 2,\n",
    "      7: 2,\n",
    "      8: 2, \n",
    "      9: 3, \n",
    "      10: 3,\n",
    "      11: 3,\n",
    "      12: 0\n",
    "  }\n",
    "    df['season'] = df['month'].apply(lambda x: month_to_season[x])\n",
    "\n",
    "add_season(X_train)\n",
    "add_season(X_test)"
   ]
  },
  {
   "attachments": {},
   "cell_type": "markdown",
   "id": "f64cbaa8",
   "metadata": {},
   "source": [
    "We also take advantage of cyclical feature encoding- sine and cosine encoding this variable to take advantage of the cyclical nature of a year's time period. "
   ]
  },
  {
   "cell_type": "code",
   "execution_count": 24,
   "id": "647edbed",
   "metadata": {},
   "outputs": [],
   "source": [
    "## https://scikit-learn.org/stable/auto_examples/applications/plot_cyclical_feature_engineering.html\n",
    "def sin_transformer(period):\n",
    "    return FunctionTransformer(lambda x: np.sin(x / period * 2 * np.pi))\n",
    "\n",
    "def cos_transformer(period):\n",
    "    return FunctionTransformer(lambda x: np.cos(x / period * 2 * np.pi))"
   ]
  },
  {
   "cell_type": "code",
   "execution_count": 25,
   "id": "6c42f518",
   "metadata": {},
   "outputs": [],
   "source": [
    "def encode_cyclical(df):\n",
    "  # encode the day with a period of 365\n",
    "  df['day_of_year_sin'] = sin_transformer(365).fit_transform(df['day_of_year'])\n",
    "  df['day_of_year_cos'] = cos_transformer(365).fit_transform(df['day_of_year'])\n",
    "\n",
    "  # encode the month with a period of 12\n",
    "  df['month_sin'] = sin_transformer(12).fit_transform(df['month'])\n",
    "  df['month_cos'] = cos_transformer(12).fit_transform(df['month'])\n",
    "\n",
    "  # encode the season with a period of 4\n",
    "  df['season_sin'] = sin_transformer(4).fit_transform(df['season'])\n",
    "  df['season_cos'] = cos_transformer(4).fit_transform(df['season'])\n",
    "\n",
    "encode_cyclical(X_train)\n",
    "encode_cyclical(X_test)"
   ]
  },
  {
   "cell_type": "code",
   "execution_count": 37,
   "id": "fc64d7cd",
   "metadata": {},
   "outputs": [
    {
     "data": {
      "image/png": "[encoded data removed]",
      "text/plain": [
       "<Figure size 504x360 with 1 Axes>"
      ]
     },
     "metadata": {
      "needs_background": "light"
     },
     "output_type": "display_data"
    }
   ],
   "source": [
    "all_data = pd.concat([X_train, X_test])\n",
    "fig, ax = plt.subplots(figsize=(7, 5))\n",
    "plt.title(\"Graphical visualization of cyclical encoding\")\n",
    "ax.scatter(all_data[\"month_sin\"], all_data[\"month_cos\"], c=all_data[\"month\"]);"
   ]
  },
  {
   "cell_type": "code",
   "execution_count": 34,
   "id": "b65c5632",
   "metadata": {},
   "outputs": [
    {
     "data": {
      "text/plain": [
       "(375734, 252)"
      ]
     },
     "execution_count": 34,
     "metadata": {},
     "output_type": "execute_result"
    }
   ],
   "source": [
    "# 9 date features added; startdate and index dropped\n",
    "X_train.shape"
   ]
  },
  {
   "cell_type": "markdown",
   "id": "936e847f",
   "metadata": {},
   "source": [
    "### Multicollinearity of features"
   ]
  },
  {
   "cell_type": "code",
   "execution_count": 48,
   "id": "4d1c0efb",
   "metadata": {},
   "outputs": [
    {
     "data": {
      "text/html": [
       "<div>\n",
       "<style scoped>\n",
       "    .dataframe tbody tr th:only-of-type {\n",
       "        vertical-align: middle;\n",
       "    }\n",
       "\n",
       "    .dataframe tbody tr th {\n",
       "        vertical-align: top;\n",
       "    }\n",
       "\n",
       "    .dataframe thead th {\n",
       "        text-align: right;\n",
       "    }\n",
       "</style>\n",
       "<table border=\"1\" class=\"dataframe\">\n",
       "  <thead>\n",
       "    <tr style=\"text-align: right;\">\n",
       "      <th></th>\n",
       "      <th>cc</th>\n",
       "    </tr>\n",
       "    <tr>\n",
       "      <th>pairs</th>\n",
       "      <th></th>\n",
       "    </tr>\n",
       "  </thead>\n",
       "  <tbody>\n",
       "    <tr>\n",
       "      <th>(gfdlflora0, gfdlflorb0)</th>\n",
       "      <td>0.998904</td>\n",
       "    </tr>\n",
       "    <tr>\n",
       "      <th>(nmme0-tmp2m-34w__gfdlflora0, nmme0-tmp2m-34w__gfdlflorb0)</th>\n",
       "      <td>0.998903</td>\n",
       "    </tr>\n",
       "    <tr>\n",
       "      <th>(nmme-tmp2m-56w__nmmemean, nmme-tmp2m-34w__nmmemean)</th>\n",
       "      <td>0.998309</td>\n",
       "    </tr>\n",
       "    <tr>\n",
       "      <th>(nmme-tmp2m-34w__cfsv2, nmme-tmp2m-56w__cfsv2)</th>\n",
       "      <td>0.998165</td>\n",
       "    </tr>\n",
       "    <tr>\n",
       "      <th>(nmme-tmp2m-56w__gfdlflorb, nmme-tmp2m-34w__gfdlflorb)</th>\n",
       "      <td>0.997922</td>\n",
       "    </tr>\n",
       "    <tr>\n",
       "      <th>...</th>\n",
       "      <td>...</td>\n",
       "    </tr>\n",
       "    <tr>\n",
       "      <th>(nmme-tmp2m-56w__gfdlflora, contest-pevpr-sfc-gauss-14d__pevpr)</th>\n",
       "      <td>0.800542</td>\n",
       "    </tr>\n",
       "    <tr>\n",
       "      <th>(nmme0-prate-34w__nasa0, nmme0-prate-34w__cfsv20)</th>\n",
       "      <td>0.800451</td>\n",
       "    </tr>\n",
       "    <tr>\n",
       "      <th>(contest-pevpr-sfc-gauss-14d__pevpr, nmme-tmp2m-34w__gfdlflora)</th>\n",
       "      <td>0.800419</td>\n",
       "    </tr>\n",
       "    <tr>\n",
       "      <th>(cfsv20, nmme-tmp2m-56w__gfdlflora)</th>\n",
       "      <td>0.800147</td>\n",
       "    </tr>\n",
       "    <tr>\n",
       "      <th>(nmme-tmp2m-56w__gfdlflora, contest-prwtr-eatm-14d__prwtr)</th>\n",
       "      <td>0.800077</td>\n",
       "    </tr>\n",
       "  </tbody>\n",
       "</table>\n",
       "<p>1087 rows × 1 columns</p>\n",
       "</div>"
      ],
      "text/plain": [
       "                                                          cc\n",
       "pairs                                                       \n",
       "(gfdlflora0, gfdlflorb0)                            0.998904\n",
       "(nmme0-tmp2m-34w__gfdlflora0, nmme0-tmp2m-34w__...  0.998903\n",
       "(nmme-tmp2m-56w__nmmemean, nmme-tmp2m-34w__nmme...  0.998309\n",
       "(nmme-tmp2m-34w__cfsv2, nmme-tmp2m-56w__cfsv2)      0.998165\n",
       "(nmme-tmp2m-56w__gfdlflorb, nmme-tmp2m-34w__gfd...  0.997922\n",
       "...                                                      ...\n",
       "(nmme-tmp2m-56w__gfdlflora, contest-pevpr-sfc-g...  0.800542\n",
       "(nmme0-prate-34w__nasa0, nmme0-prate-34w__cfsv20)   0.800451\n",
       "(contest-pevpr-sfc-gauss-14d__pevpr, nmme-tmp2m...  0.800419\n",
       "(cfsv20, nmme-tmp2m-56w__gfdlflora)                 0.800147\n",
       "(nmme-tmp2m-56w__gfdlflora, contest-prwtr-eatm-...  0.800077\n",
       "\n",
       "[1087 rows x 1 columns]"
      ]
     },
     "execution_count": 48,
     "metadata": {},
     "output_type": "execute_result"
    }
   ],
   "source": [
    "# pairs with collinearity > 0.75\n",
    "df = X_train.corr().abs().stack().reset_index().sort_values(0, ascending=False)\n",
    "df['pairs'] = list(zip(df.level_0, df.level_1))\n",
    "df.set_index(['pairs'], inplace = True)\n",
    "df.drop(columns=['level_1', 'level_0'], inplace = True)\n",
    "df.columns = ['cc']\n",
    "df.drop_duplicates(inplace=True)\n",
    "df[(df.cc>.80) & (df.cc<1)]"
   ]
  },
  {
   "cell_type": "code",
   "execution_count": 26,
   "id": "836a87a4",
   "metadata": {},
   "outputs": [],
   "source": [
    "## Identify correlated features to drop that fall above a correlation threshold \n",
    "## https://goodboychan.github.io/python/datacamp/machine_learning/2020/07/08/02-Feature-selection-I-selecting-for-feature-information.html \n",
    "\n",
    "def identify_correlated(df, threshold):\n",
    "    corr_matrix = df.corr().abs()\n",
    "    mask = np.triu(np.ones_like(corr_matrix, dtype=bool))\n",
    "    reduced_corr_matrix = corr_matrix.mask(mask)\n",
    "    features_to_drop = [c for c in reduced_corr_matrix.columns if any(reduced_corr_matrix[c] > threshold)]\n",
    "    return features_to_drop"
   ]
  },
  {
   "cell_type": "code",
   "execution_count": 27,
   "id": "48811ee0",
   "metadata": {},
   "outputs": [
    {
     "data": {
      "text/plain": [
       "103"
      ]
     },
     "execution_count": 27,
     "metadata": {},
     "output_type": "execute_result"
    }
   ],
   "source": [
    "## Get the column names to drop \n",
    "to_drop = identify_correlated(X_train, threshold=0.80)\n",
    "len(to_drop)"
   ]
  },
  {
   "cell_type": "code",
   "execution_count": 28,
   "id": "27a75484",
   "metadata": {},
   "outputs": [
    {
     "name": "stdout",
     "output_type": "stream",
     "text": [
      "(375734, 149)\n"
     ]
    }
   ],
   "source": [
    "# drop columns in train data to handle multicollinearity\n",
    "X_train_reduced = pd.DataFrame(X_train.drop(to_drop, axis=1))\n",
    "print(X_train_reduced.shape)"
   ]
  },
  {
   "cell_type": "code",
   "execution_count": 35,
   "id": "04f82cfe",
   "metadata": {},
   "outputs": [
    {
     "name": "stdout",
     "output_type": "stream",
     "text": [
      "(31354, 149)\n"
     ]
    }
   ],
   "source": [
    "# drop columns in test data to handle multicollinearity\n",
    "X_test_reduced = pd.DataFrame(X_test.drop(to_drop, axis=1))\n",
    "print(X_test_reduced.shape)"
   ]
  },
  {
   "attachments": {},
   "cell_type": "markdown",
   "id": "400edb8c",
   "metadata": {},
   "source": [
    "103 features have been dropped in both X_train and X_test, to handle multicollinearity"
   ]
  },
  {
   "cell_type": "code",
   "execution_count": 36,
   "id": "4fb0189b",
   "metadata": {},
   "outputs": [],
   "source": [
    "X_train_reduced.to_csv('Data/X_train_cleaned.csv')\n",
    "X_test_reduced.to_csv('Data/X_test_cleaned.csv')"
   ]
  },
  {
   "cell_type": "code",
   "execution_count": 21,
   "id": "ce3f0152",
   "metadata": {},
   "outputs": [],
   "source": [
    "# LOG TRANSFORM NOT DONE - COZ OF 0 AND NEGATIVE VALUES\n",
    "# SCALING DONE IN PIPELINE\n",
    "# While normalized data is not a requirement for most machine learning models, \n",
    "# differences in scaling can cause problems."
   ]
  },
  {
   "cell_type": "code",
   "execution_count": 4,
   "id": "6ff52b60",
   "metadata": {},
   "outputs": [],
   "source": [
    "# LOAD THE DATA\n",
    "train_df = pd.read_csv('Data/train_data.csv')\n",
    "\n",
    "#Obtain the target and features\n",
    "y_train = train_df['contest-tmp2m-14d__tmp2m']\n",
    "X_train_reduced = pd.read_csv('Data/X_train_cleaned.csv')\n",
    "X_test_reduced = pd.read_csv('Data/X_test_cleaned.csv')"
   ]
  },
  {
   "cell_type": "code",
   "execution_count": null,
   "id": "f6d921c8",
   "metadata": {},
   "outputs": [],
   "source": []
  },
  {
   "cell_type": "markdown",
   "id": "281f074e",
   "metadata": {},
   "source": [
    "## Modeling"
   ]
  },
  {
   "cell_type": "markdown",
   "id": "400d14ab",
   "metadata": {},
   "source": [
    "### 1. Baseline model - Linear Regression"
   ]
  },
  {
   "cell_type": "code",
   "execution_count": 27,
   "id": "39bf82a0",
   "metadata": {},
   "outputs": [
    {
     "data": {
      "text/plain": [
       "LinearRegression()"
      ]
     },
     "execution_count": 27,
     "metadata": {},
     "output_type": "execute_result"
    }
   ],
   "source": [
    "# model using basic linear regression\n",
    "baseline_model = LinearRegression()\n",
    "baseline_model.fit(X_train_reduced, y_train)"
   ]
  },
  {
   "cell_type": "code",
   "execution_count": 28,
   "id": "e62b1358",
   "metadata": {},
   "outputs": [
    {
     "name": "stdout",
     "output_type": "stream",
     "text": [
      "Cross validation RMSE train error: 1.2685389643992555\n",
      "Cross validation RMSE test error: 1.5059980515315925\n"
     ]
    }
   ],
   "source": [
    "#cross validation\n",
    "cross_val = cross_validate(baseline_model, X_train_reduced, y_train, cv=8, scoring='neg_root_mean_squared_error', return_train_score=True)\n",
    "\n",
    "# Negative signs in front to convert back to RMSE from -RMSE\n",
    "train_avg = -cross_val[\"train_score\"].mean()\n",
    "test_avg = -cross_val[\"test_score\"].mean()\n",
    "print(f'Cross validation RMSE train error: {train_avg}')\n",
    "print(f'Cross validation RMSE test error: {test_avg}')"
   ]
  },
  {
   "cell_type": "code",
   "execution_count": 48,
   "id": "a54d4cfa",
   "metadata": {},
   "outputs": [
    {
     "data": {
      "text/html": [
       "<div>\n",
       "<style scoped>\n",
       "    .dataframe tbody tr th:only-of-type {\n",
       "        vertical-align: middle;\n",
       "    }\n",
       "\n",
       "    .dataframe tbody tr th {\n",
       "        vertical-align: top;\n",
       "    }\n",
       "\n",
       "    .dataframe thead th {\n",
       "        text-align: right;\n",
       "    }\n",
       "</style>\n",
       "<table border=\"1\" class=\"dataframe\">\n",
       "  <thead>\n",
       "    <tr style=\"text-align: right;\">\n",
       "      <th></th>\n",
       "      <th>contest-tmp2m-14d__tmp2m</th>\n",
       "      <th>index</th>\n",
       "    </tr>\n",
       "  </thead>\n",
       "  <tbody>\n",
       "    <tr>\n",
       "      <th>0</th>\n",
       "      <td>28.204863</td>\n",
       "      <td>375734</td>\n",
       "    </tr>\n",
       "    <tr>\n",
       "      <th>1</th>\n",
       "      <td>28.038584</td>\n",
       "      <td>375735</td>\n",
       "    </tr>\n",
       "    <tr>\n",
       "      <th>2</th>\n",
       "      <td>27.863478</td>\n",
       "      <td>375736</td>\n",
       "    </tr>\n",
       "  </tbody>\n",
       "</table>\n",
       "</div>"
      ],
      "text/plain": [
       "   contest-tmp2m-14d__tmp2m   index\n",
       "0                 28.204863  375734\n",
       "1                 28.038584  375735\n",
       "2                 27.863478  375736"
      ]
     },
     "execution_count": 48,
     "metadata": {},
     "output_type": "execute_result"
    }
   ],
   "source": [
    "solutions1 = pd.DataFrame()\n",
    "solutions1['contest-tmp2m-14d__tmp2m'] = baseline_model.predict(X_test_reduced)\n",
    "solutions1['index'] = test_df['index']\n",
    "solutions1.head(3)"
   ]
  },
  {
   "cell_type": "code",
   "execution_count": 49,
   "id": "7569a297",
   "metadata": {},
   "outputs": [],
   "source": [
    "solutions1.to_csv('Solutions/solutions1.csv', index = False)"
   ]
  },
  {
   "attachments": {},
   "cell_type": "markdown",
   "id": "0523ed44",
   "metadata": {},
   "source": [
    "RMSE is 5.291."
   ]
  },
  {
   "cell_type": "markdown",
   "id": "608f9aec",
   "metadata": {},
   "source": [
    "### 2. Lasso Regression"
   ]
  },
  {
   "cell_type": "code",
   "execution_count": 65,
   "id": "a52159c4",
   "metadata": {},
   "outputs": [
    {
     "name": "stdout",
     "output_type": "stream",
     "text": [
      "\n",
      "----------------\n",
      "\n",
      "The optimal alpha for the lasso regression is:  0.009420555987980219\n"
     ]
    }
   ],
   "source": [
    "# lasso regression\n",
    "lasso = LassoCV(max_iter=100000, cv=15)\n",
    "lasso.fit(X_train_reduced, y_train)\n",
    "\n",
    "print('\\n----------------\\n')\n",
    "print('The optimal alpha for the lasso regression is: ', lasso.alpha_)"
   ]
  },
  {
   "cell_type": "code",
   "execution_count": 52,
   "id": "c253e912",
   "metadata": {},
   "outputs": [
    {
     "data": {
      "text/html": [
       "<div>\n",
       "<style scoped>\n",
       "    .dataframe tbody tr th:only-of-type {\n",
       "        vertical-align: middle;\n",
       "    }\n",
       "\n",
       "    .dataframe tbody tr th {\n",
       "        vertical-align: top;\n",
       "    }\n",
       "\n",
       "    .dataframe thead th {\n",
       "        text-align: right;\n",
       "    }\n",
       "</style>\n",
       "<table border=\"1\" class=\"dataframe\">\n",
       "  <thead>\n",
       "    <tr style=\"text-align: right;\">\n",
       "      <th></th>\n",
       "      <th>contest-tmp2m-14d__tmp2m</th>\n",
       "      <th>index</th>\n",
       "    </tr>\n",
       "  </thead>\n",
       "  <tbody>\n",
       "    <tr>\n",
       "      <th>0</th>\n",
       "      <td>27.187991</td>\n",
       "      <td>375734</td>\n",
       "    </tr>\n",
       "    <tr>\n",
       "      <th>1</th>\n",
       "      <td>27.170391</td>\n",
       "      <td>375735</td>\n",
       "    </tr>\n",
       "    <tr>\n",
       "      <th>2</th>\n",
       "      <td>27.255788</td>\n",
       "      <td>375736</td>\n",
       "    </tr>\n",
       "  </tbody>\n",
       "</table>\n",
       "</div>"
      ],
      "text/plain": [
       "   contest-tmp2m-14d__tmp2m   index\n",
       "0                 27.187991  375734\n",
       "1                 27.170391  375735\n",
       "2                 27.255788  375736"
      ]
     },
     "execution_count": 52,
     "metadata": {},
     "output_type": "execute_result"
    }
   ],
   "source": [
    "solutions2 = pd.DataFrame()\n",
    "solutions2['contest-tmp2m-14d__tmp2m'] = lasso.predict(X_test_reduced)\n",
    "solutions2['index'] = test_df['index']\n",
    "solutions2.to_csv('Solutions/solutions2.csv', index = False)\n",
    "solutions2.head(3)"
   ]
  },
  {
   "attachments": {},
   "cell_type": "markdown",
   "id": "e60a8ad3",
   "metadata": {},
   "source": [
    "RMSE is 1.714. Better than the baseline model"
   ]
  },
  {
   "cell_type": "markdown",
   "id": "2bde0bca",
   "metadata": {},
   "source": [
    "### 3. Random forest"
   ]
  },
  {
   "cell_type": "code",
   "execution_count": 8,
   "id": "30899ce0",
   "metadata": {},
   "outputs": [],
   "source": [
    "# column transformer for one hot encoding\n",
    "ohe_transformer = ColumnTransformer(transformers=[\n",
    "    ('ohe', OneHotEncoder(handle_unknown='ignore'), ['climateregions__climateregion'])\n",
    "    ], remainder='passthrough')"
   ]
  },
  {
   "cell_type": "code",
   "execution_count": 9,
   "id": "45d98e7a",
   "metadata": {},
   "outputs": [
    {
     "data": {
      "text/plain": [
       "Pipeline(steps=[('ohe',\n",
       "                 ColumnTransformer(remainder='passthrough',\n",
       "                                   transformers=[('ohe',\n",
       "                                                  OneHotEncoder(handle_unknown='ignore'),\n",
       "                                                  ['climateregions__climateregion'])])),\n",
       "                ('scaler', StandardScaler()),\n",
       "                ('rf', RandomForestRegressor(random_state=42))])"
      ]
     },
     "execution_count": 9,
     "metadata": {},
     "output_type": "execute_result"
    }
   ],
   "source": [
    "# pipeline with RandomForestRegressor estimator\n",
    "pipe_rf = Pipeline(steps=[\n",
    "    ('ohe', ohe_transformer), \n",
    "    ('scaler', StandardScaler()), \n",
    "    ('rf', RandomForestRegressor(random_state=42))\n",
    "    ])\n",
    "pipe_rf.fit(X_train_reduced, y_train)"
   ]
  },
  {
   "cell_type": "code",
   "execution_count": 40,
   "id": "6ef69e9a",
   "metadata": {},
   "outputs": [],
   "source": [
    "#cross validation\n",
    "cross_val = cross_validate(pipe_rf, X_train_reduced, y_train, cv=8, scoring='neg_root_mean_squared_error', return_train_score=True)\n",
    "\n",
    "# Negative signs in front to convert back to RMSE from -RMSE\n",
    "train_avg = -cross_val[\"train_score\"].mean()\n",
    "test_avg = -cross_val[\"test_score\"].mean()\n",
    "print(f'Cross validation RMSE train error: {train_avg}')\n",
    "print(f'Cross validation RMSE test error: {test_avg}')"
   ]
  },
  {
   "cell_type": "code",
   "execution_count": 39,
   "id": "b1161c4d",
   "metadata": {},
   "outputs": [
    {
     "data": {
      "text/html": [
       "<div>\n",
       "<style scoped>\n",
       "    .dataframe tbody tr th:only-of-type {\n",
       "        vertical-align: middle;\n",
       "    }\n",
       "\n",
       "    .dataframe tbody tr th {\n",
       "        vertical-align: top;\n",
       "    }\n",
       "\n",
       "    .dataframe thead th {\n",
       "        text-align: right;\n",
       "    }\n",
       "</style>\n",
       "<table border=\"1\" class=\"dataframe\">\n",
       "  <thead>\n",
       "    <tr style=\"text-align: right;\">\n",
       "      <th></th>\n",
       "      <th>contest-tmp2m-14d__tmp2m</th>\n",
       "      <th>index</th>\n",
       "    </tr>\n",
       "  </thead>\n",
       "  <tbody>\n",
       "    <tr>\n",
       "      <th>0</th>\n",
       "      <td>29.582035</td>\n",
       "      <td>375734</td>\n",
       "    </tr>\n",
       "    <tr>\n",
       "      <th>1</th>\n",
       "      <td>29.570400</td>\n",
       "      <td>375735</td>\n",
       "    </tr>\n",
       "    <tr>\n",
       "      <th>2</th>\n",
       "      <td>29.629888</td>\n",
       "      <td>375736</td>\n",
       "    </tr>\n",
       "  </tbody>\n",
       "</table>\n",
       "</div>"
      ],
      "text/plain": [
       "   contest-tmp2m-14d__tmp2m   index\n",
       "0                 29.582035  375734\n",
       "1                 29.570400  375735\n",
       "2                 29.629888  375736"
      ]
     },
     "execution_count": 39,
     "metadata": {},
     "output_type": "execute_result"
    }
   ],
   "source": [
    "# Save solution - index starts at 375734\n",
    "solutions_rf = pd.DataFrame()\n",
    "solutions_rf['contest-tmp2m-14d__tmp2m'] = pipe_rf.predict(X_test_reduced)\n",
    "solutions_rf['index'] = test_df['index']\n",
    "solutions_rf.to_csv('Solutions/solutions_rf.csv', index = False)\n",
    "solutions_rf.head(3)"
   ]
  },
  {
   "attachments": {},
   "cell_type": "markdown",
   "id": "a5679910",
   "metadata": {},
   "source": [
    "RMSE score is 1.722. "
   ]
  },
  {
   "attachments": {},
   "cell_type": "markdown",
   "id": "90b57f4a",
   "metadata": {},
   "source": [
    "### Hyperparameter Tuning of the Random Forest Regressor"
   ]
  },
  {
   "attachments": {},
   "cell_type": "markdown",
   "id": "196b8561",
   "metadata": {},
   "source": [
    "class sklearn.ensemble.RandomForestRegressor(n_estimators=100, *, criterion='squared_error', max_depth=None, min_samples_split=2, min_samples_leaf=1, min_weight_fraction_leaf=0.0, max_features=1.0, max_leaf_nodes=None, min_impurity_decrease=0.0, bootstrap=True, oob_score=False, n_jobs=None, random_state=None, verbose=0, warm_start=False, ccp_alpha=0.0, max_samples=None)"
   ]
  },
  {
   "cell_type": "code",
   "execution_count": 14,
   "id": "7dd28753",
   "metadata": {},
   "outputs": [],
   "source": [
    "# function for hyperparameter tuning using GridSearchCV\n",
    "def rf_tuning(pipeline, n_estimators,  max_depth, min_samples_split, min_samples_leaf, max_features):\n",
    "    params_rf = {'rf__n_estimators': n_estimators,\n",
    "             'rf__max_depth': max_depth,\n",
    "             'rf__min_samples_split': min_samples_split,\n",
    "             'rf__min_samples_leaf': min_samples_leaf,\n",
    "             'rf__max_features': max_features\n",
    "             }\n",
    "\n",
    "    gridsearch_rf = GridSearchCV(pipeline, params_rf, cv=4, scoring='neg_root_mean_squared_error')\n",
    "    gridsearch_rf.fit(X_train_reduced, y_train)\n",
    "\n",
    "    # parameters that gave the best result\n",
    "    print(f'Optimal parameters: {gridsearch_rf.best_params_}')\n",
    "\n",
    "    # Mean cross-validated score of the best_estimator\n",
    "    print(f'Validation negative RMSE: {gridsearch_rf.best_score_}')\n"
   ]
  },
  {
   "cell_type": "code",
   "execution_count": 16,
   "id": "29c4e658",
   "metadata": {},
   "outputs": [],
   "source": [
    "rf_tuning(pipe_rf, [200], [None, 20], [3, 5], [2, 4], ['sqrt', 'log2', 100])"
   ]
  },
  {
   "cell_type": "code",
   "execution_count": null,
   "id": "5ba4fb85",
   "metadata": {},
   "outputs": [],
   "source": []
  }
 ],
 "metadata": {
  "kernelspec": {
   "display_name": "Python 3",
   "language": "python",
   "name": "python3"
  },
  "language_info": {
   "codemirror_mode": {
    "name": "ipython",
    "version": 3
   },
   "file_extension": ".py",
   "mimetype": "text/x-python",
   "name": "python",
   "nbconvert_exporter": "python",
   "pygments_lexer": "ipython3",
   "version": "3.9.13"
  },
  "vscode": {
   "interpreter": {
    "hash": "51a3c5d9b9899bae55ebae65f0f259df138e1859bc035a936fc050a02a4d0eab"
   }
  }
 },
 "nbformat": 4,
 "nbformat_minor": 5
}
